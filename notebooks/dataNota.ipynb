{
 "cells": [
  {
   "cell_type": "markdown",
   "metadata": {},
   "source": [
    "Importando as bibliotecas:"
   ]
  },
  {
   "cell_type": "code",
   "execution_count": 6,
   "metadata": {},
   "outputs": [],
   "source": [
    "import pandas as pd\n",
    "import numpy as np\n",
    "import matplotlib.pyplot as plt"
   ]
  },
  {
   "cell_type": "markdown",
   "metadata": {},
   "source": [
    "Lendo o CSV:"
   ]
  },
  {
   "cell_type": "code",
   "execution_count": 7,
   "metadata": {},
   "outputs": [],
   "source": [
    "sucupira = pd.read_csv('sucupirafilter.csv',sep=';')"
   ]
  },
  {
   "cell_type": "markdown",
   "metadata": {},
   "source": [
    "Extraindo as Notas, Datas de Recomendação e Datas de Início:"
   ]
  },
  {
   "cell_type": "code",
   "execution_count": 8,
   "metadata": {},
   "outputs": [
    {
     "name": "stdout",
     "output_type": "stream",
     "text": [
      "['3' '3' '3' '4' '4' '3' '3' '3' '4' '5' '5' '3' '3' '4' '5' '5' '3' '3'\n",
      " '4' '3' '3' '3' '4' '3' '3' '3' '4' '5' '5' '7' '7' '6' '6' '4' '4' '5'\n",
      " '7' '7' '4' '4' '4' '5' '5' '5' '5' '3' '3' '4' '4' '3' '3' '3' '3' '5'\n",
      " 'A' '5' '5' '3' '2' '3' '5' '5' '4' '5' '5' '5' '5' '5' '4' '3' '4' '4'\n",
      " '5' '5' '5' '4' '4' '5' '5' '3' '5' '5' '3' '4' '4' '3' '4' '5' '5' '5'\n",
      " '5' '7' '7' '6' '6' '4' '3' '3' '4' 'A' '5' '4' '4' '3' 'A' '5' '5' '4'\n",
      " '4' '4' '4' '5' '5' '3' '6' '6' '5' '5' '5' '5' '4' '4' '4' '3' '4' '4'\n",
      " '3' '4' '4' '3' '3' '3' '3' '4' '5' '5' '3' '4' '4' '4' '4' '3' '3' '4'\n",
      " '3' '4' '4' '3' '3' '3' '5' '5' '3' '4' '4' '4' '4' '3' '4' '4' '3' '4'\n",
      " '4' 'A' '3' '4' '4' '4' '5' '5' 'A' '4' '4' 'A' '3' '3' '4' '4' '4' '4'\n",
      " '3' '4' '4' '4' '4' '4' '4' '4' '4' '4' '3' '3' '5' '5' '5' '5' 'A' '6'\n",
      " '6' '5' '5' '3' '3' '4' '4' '3' '4' '3' '5' '5' '3' '3' '4' '3' '3' '3'\n",
      " '3' 'A' '4' '4' 'A' '4' '4' '3' '4' '4' '5' '5' '4' '5' '5' '3' '4' '4'\n",
      " '4' 'A' '4' '4' '4' '5' '5' '3' '4' '5' '5' '5' '3' '4' '3' '3' '3' '4'\n",
      " '4' '3' '3' 'A' '4' '3' '3' '3' '3' '4' '4' '6' '6' 'A' '4' '4' '7' '7'\n",
      " '5' '5' '5' '5' '3' 'A' '3' 'A' '4' '3' '4' '4' '5' '5' 'A' '3' 'A' '4'\n",
      " '5' '5' '3' '3' '4' '3' '3' '4' '4' '4' '3' '3' '4' '4' '4' 'A' '3' '4'\n",
      " '3' '3' '5' '5' '6' '6' '3' '3' '3' '3' '4' '3' '3' '3' '3' '3' '4' '4'\n",
      " '4' '4' '3' '3' '3' '4' '3' '3' '7' '7' '4' '3' '3' '3' '3' '4' '3' '4'\n",
      " '4' '6' '6' '4' '3' '3' '3' '3' '3' '3']\n"
     ]
    }
   ],
   "source": [
    "# Função para remover dados discrepante da lista com as Datas\n",
    "\n",
    "def removerOutliersData(dt):\n",
    "    \n",
    "    while '-' in dt:\n",
    "        dt.remove('-')\n",
    "    \n",
    "    return dt\n",
    "\n",
    "# Função para extrair o Ano da data e converte-lo de String para Int\n",
    "\n",
    "def extrairAno(dt):\n",
    "    _, _, ano = dt.split('/')\n",
    "    return int(ano)\n",
    "\n",
    "# Função para converter a nota de String para Int\n",
    "\n",
    "def converterNota(nota):\n",
    "    return int(nota)\n",
    "\n",
    "notas = sucupira['(curso) nota_curso'].to_numpy()\n",
    "\n",
    "print(notas)"
   ]
  },
  {
   "cell_type": "code",
   "execution_count": null,
   "metadata": {},
   "outputs": [],
   "source": []
  }
 ],
 "metadata": {
  "kernelspec": {
   "display_name": "Python 3",
   "language": "python",
   "name": "python3"
  },
  "language_info": {
   "codemirror_mode": {
    "name": "ipython",
    "version": 3
   },
   "file_extension": ".py",
   "mimetype": "text/x-python",
   "name": "python",
   "nbconvert_exporter": "python",
   "pygments_lexer": "ipython3",
   "version": "3.5.2"
  }
 },
 "nbformat": 4,
 "nbformat_minor": 2
}
